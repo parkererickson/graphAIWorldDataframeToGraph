{
 "cells": [
  {
   "cell_type": "markdown",
   "metadata": {},
   "source": [
    "# Creating Schema and Load Data\n",
    "## From Graph+AI World 2020 Conference\n",
    "This notebook contains the creation of schema and  for the Graph+AI World session From Dataframes to Graph: Data Science with pyTigerGraph by Parker Erickson."
   ]
  },
  {
   "cell_type": "code",
   "execution_count": 1,
   "metadata": {},
   "outputs": [],
   "source": [
    "import pandas as pd \n",
    "import pyTigerGraph as tg"
   ]
  },
  {
   "cell_type": "markdown",
   "metadata": {},
   "source": [
    "# Loading DataFrames\n",
    "This dataset is a subset of the [FMA](https://github.com/mdeff/fma) dataset."
   ]
  },
  {
   "cell_type": "code",
   "execution_count": 2,
   "metadata": {},
   "outputs": [],
   "source": [
    "albums = pd.read_csv(\"data/albumData.tsv\", sep=\"\\t\")\n",
    "artists = pd.read_csv(\"data/artistData.tsv\", sep=\"\\t\")\n",
    "features = pd.read_csv(\"data/featureData.tsv\", sep=\"\\t\")\n",
    "genres = pd.read_csv(\"data/genreData.tsv\", sep=\"\\t\")\n",
    "tracks = pd.read_csv(\"data/trackData.tsv\", sep=\"\\t\")"
   ]
  },
  {
   "cell_type": "markdown",
   "metadata": {},
   "source": [
    "# Create connection to TigerGraph Cloud instance"
   ]
  },
  {
   "cell_type": "code",
   "execution_count": 3,
   "metadata": {
    "tags": []
   },
   "outputs": [],
   "source": [
    "conn = tg.TigerGraphConnection(\"https://musicgraph.i.tgcloud.io\", version=\"3.0.5\")"
   ]
  },
  {
   "cell_type": "code",
   "execution_count": 4,
   "metadata": {
    "tags": []
   },
   "outputs": [
    {
     "output_type": "stream",
     "name": "stdout",
     "text": "Downloading gsql client Jar\nDownloading SSL Certificate\n========================\nTrying version: v3_0_5\nConnecting to musicgraph.i.tgcloud.io:14240\nWARNING: sun.reflect.Reflection.getCallerClass is not supported. This will impact performance.\nIf there is any relative path, it is relative to <System.AppRoot>/dev/gdk/gsql\nDropping all, about 1 minute ...\nAbort all active loading jobs\nTry to abort all loading jobs on graph musicGraph, it may take a while ...\n[ABORT_SUCCESS] No active Loading Job to abort.\nResetting GPE...\nSuccessfully reset GPE\nStopping GPE GSE\nSuccessfully stopped GPE GSE in 5.011 seconds\nClearing graph store...\nSuccessfully cleared graph store\nEverything is dropped.\n\n"
    }
   ],
   "source": [
    "print(conn.gsql(\"DROP ALL\", options=[]))"
   ]
  },
  {
   "cell_type": "markdown",
   "metadata": {},
   "source": [
    "# Create Vertices"
   ]
  },
  {
   "cell_type": "code",
   "execution_count": 5,
   "metadata": {},
   "outputs": [
    {
     "output_type": "execute_result",
     "data": {
      "text/plain": "   track_id  comments         date_created        date_released engineer  \\\n0         2         0  2008-11-26 01:44:45  2009-01-05 00:00:00      NaN   \n1         3         0  2008-11-26 01:44:45  2009-01-05 00:00:00      NaN   \n2         5         0  2008-11-26 01:44:45  2009-01-05 00:00:00      NaN   \n3        10         0  2008-11-26 01:45:08  2008-02-06 00:00:00      NaN   \n4        20         0  2008-11-26 01:45:05  2009-01-06 00:00:00      NaN   \n\n   favorites  id                                information  listens producer  \\\n0          4   1                                    <p></p>     6073      NaN   \n1          4   1                                    <p></p>     6073      NaN   \n2          4   1                                    <p></p>     6073      NaN   \n3          4   6                                        NaN    47632      NaN   \n4          2   4  <p> \"spiritual songs\" from Nicky Cook</p>     2710      NaN   \n\n  tags                 title  tracks   type  \n0   []  AWOL - A Way Of Life       7  Album  \n1   []  AWOL - A Way Of Life       7  Album  \n2   []  AWOL - A Way Of Life       7  Album  \n3   []     Constant Hitmaker       2  Album  \n4   []                 Niris      13  Album  ",
      "text/html": "<div>\n<style scoped>\n    .dataframe tbody tr th:only-of-type {\n        vertical-align: middle;\n    }\n\n    .dataframe tbody tr th {\n        vertical-align: top;\n    }\n\n    .dataframe thead th {\n        text-align: right;\n    }\n</style>\n<table border=\"1\" class=\"dataframe\">\n  <thead>\n    <tr style=\"text-align: right;\">\n      <th></th>\n      <th>track_id</th>\n      <th>comments</th>\n      <th>date_created</th>\n      <th>date_released</th>\n      <th>engineer</th>\n      <th>favorites</th>\n      <th>id</th>\n      <th>information</th>\n      <th>listens</th>\n      <th>producer</th>\n      <th>tags</th>\n      <th>title</th>\n      <th>tracks</th>\n      <th>type</th>\n    </tr>\n  </thead>\n  <tbody>\n    <tr>\n      <th>0</th>\n      <td>2</td>\n      <td>0</td>\n      <td>2008-11-26 01:44:45</td>\n      <td>2009-01-05 00:00:00</td>\n      <td>NaN</td>\n      <td>4</td>\n      <td>1</td>\n      <td>&lt;p&gt;&lt;/p&gt;</td>\n      <td>6073</td>\n      <td>NaN</td>\n      <td>[]</td>\n      <td>AWOL - A Way Of Life</td>\n      <td>7</td>\n      <td>Album</td>\n    </tr>\n    <tr>\n      <th>1</th>\n      <td>3</td>\n      <td>0</td>\n      <td>2008-11-26 01:44:45</td>\n      <td>2009-01-05 00:00:00</td>\n      <td>NaN</td>\n      <td>4</td>\n      <td>1</td>\n      <td>&lt;p&gt;&lt;/p&gt;</td>\n      <td>6073</td>\n      <td>NaN</td>\n      <td>[]</td>\n      <td>AWOL - A Way Of Life</td>\n      <td>7</td>\n      <td>Album</td>\n    </tr>\n    <tr>\n      <th>2</th>\n      <td>5</td>\n      <td>0</td>\n      <td>2008-11-26 01:44:45</td>\n      <td>2009-01-05 00:00:00</td>\n      <td>NaN</td>\n      <td>4</td>\n      <td>1</td>\n      <td>&lt;p&gt;&lt;/p&gt;</td>\n      <td>6073</td>\n      <td>NaN</td>\n      <td>[]</td>\n      <td>AWOL - A Way Of Life</td>\n      <td>7</td>\n      <td>Album</td>\n    </tr>\n    <tr>\n      <th>3</th>\n      <td>10</td>\n      <td>0</td>\n      <td>2008-11-26 01:45:08</td>\n      <td>2008-02-06 00:00:00</td>\n      <td>NaN</td>\n      <td>4</td>\n      <td>6</td>\n      <td>NaN</td>\n      <td>47632</td>\n      <td>NaN</td>\n      <td>[]</td>\n      <td>Constant Hitmaker</td>\n      <td>2</td>\n      <td>Album</td>\n    </tr>\n    <tr>\n      <th>4</th>\n      <td>20</td>\n      <td>0</td>\n      <td>2008-11-26 01:45:05</td>\n      <td>2009-01-06 00:00:00</td>\n      <td>NaN</td>\n      <td>2</td>\n      <td>4</td>\n      <td>&lt;p&gt; \"spiritual songs\" from Nicky Cook&lt;/p&gt;</td>\n      <td>2710</td>\n      <td>NaN</td>\n      <td>[]</td>\n      <td>Niris</td>\n      <td>13</td>\n      <td>Album</td>\n    </tr>\n  </tbody>\n</table>\n</div>"
     },
     "metadata": {},
     "execution_count": 5
    }
   ],
   "source": [
    "albums.head()"
   ]
  },
  {
   "cell_type": "code",
   "execution_count": 6,
   "metadata": {
    "tags": []
   },
   "outputs": [
    {
     "output_type": "stream",
     "name": "stdout",
     "text": "========================\nTrying version: v3_0_5\nConnecting to musicgraph.i.tgcloud.io:14240\nWARNING: sun.reflect.Reflection.getCallerClass is not supported. This will impact performance.\nIf there is any relative path, it is relative to <System.AppRoot>/dev/gdk/gsql\nThe vertex type Album is created.\n\n"
    }
   ],
   "source": [
    "print(conn.gsql('''CREATE VERTEX Album (PRIMARY_ID Id STRING, Title STRING, Tracks INT, Listens INT, Information STRING, \n",
    "                    Embedding LIST<DOUBLE>) WITH primary_id_as_attribute=\"true\"\n",
    "                ''', options=[]))"
   ]
  },
  {
   "cell_type": "code",
   "execution_count": 7,
   "metadata": {},
   "outputs": [
    {
     "output_type": "execute_result",
     "data": {
      "text/plain": "   track_id    active_year_begin      active_year_end  \\\n0         2  2006-01-01 00:00:00                  NaN   \n1         3  2006-01-01 00:00:00                  NaN   \n2         5  2006-01-01 00:00:00                  NaN   \n3        10                  NaN                  NaN   \n4        20  1990-01-01 00:00:00  2011-01-01 00:00:00   \n\n                                   associated_labels  \\\n0                                                NaN   \n1                                                NaN   \n2                                                NaN   \n3  Mexican Summer, Richie Records, Woodsist, Skul...   \n4                                                NaN   \n\n                                                 bio  comments  \\\n0  <p>A Way Of Life, A Collective of Hip-Hop from...         0   \n1  <p>A Way Of Life, A Collective of Hip-Hop from...         0   \n2  <p>A Way Of Life, A Collective of Hip-Hop from...         0   \n3  <p><span style=\"font-family:Verdana, Geneva, A...         3   \n4  <p>Songs written by: Nicky Cook</p>\\n<p>VOCALS...         2   \n\n          date_created  favorites  id   latitude            location  \\\n0  2008-11-26 01:42:32          9   1  40.058324          New Jersey   \n1  2008-11-26 01:42:32          9   1  40.058324          New Jersey   \n2  2008-11-26 01:42:32          9   1  40.058324          New Jersey   \n3  2008-11-26 01:42:55         74   6        NaN                 NaN   \n4  2008-11-26 01:42:52         10   4  51.895927  Colchester England   \n\n   longitude                                            members        name  \\\n0 -74.405661  Sajje Morocco,Brownbum,ZawidaGod,Custodian of ...        AWOL   \n1 -74.405661  Sajje Morocco,Brownbum,ZawidaGod,Custodian of ...        AWOL   \n2 -74.405661  Sajje Morocco,Brownbum,ZawidaGod,Custodian of ...        AWOL   \n3        NaN                           Kurt Vile, the Violators   Kurt Vile   \n4   0.891874                                       Nicky Cook\\n  Nicky Cook   \n\n                                    related_projects  \\\n0  The list of past projects is 2 long but every1...   \n1  The list of past projects is 2 long but every1...   \n2  The list of past projects is 2 long but every1...   \n3                                                NaN   \n4                                                NaN   \n\n                                                tags  \\\n0                                           ['awol']   \n1                                           ['awol']   \n2                                           ['awol']   \n3                            ['philly', 'kurt vile']   \n4  ['instrumentals', 'experimental pop', 'post pu...   \n\n                                   website wikipedia_page  \n0  http://www.AzillionRecords.blogspot.com            NaN  \n1  http://www.AzillionRecords.blogspot.com            NaN  \n2  http://www.AzillionRecords.blogspot.com            NaN  \n3                      http://kurtvile.com            NaN  \n4                                      NaN            NaN  ",
      "text/html": "<div>\n<style scoped>\n    .dataframe tbody tr th:only-of-type {\n        vertical-align: middle;\n    }\n\n    .dataframe tbody tr th {\n        vertical-align: top;\n    }\n\n    .dataframe thead th {\n        text-align: right;\n    }\n</style>\n<table border=\"1\" class=\"dataframe\">\n  <thead>\n    <tr style=\"text-align: right;\">\n      <th></th>\n      <th>track_id</th>\n      <th>active_year_begin</th>\n      <th>active_year_end</th>\n      <th>associated_labels</th>\n      <th>bio</th>\n      <th>comments</th>\n      <th>date_created</th>\n      <th>favorites</th>\n      <th>id</th>\n      <th>latitude</th>\n      <th>location</th>\n      <th>longitude</th>\n      <th>members</th>\n      <th>name</th>\n      <th>related_projects</th>\n      <th>tags</th>\n      <th>website</th>\n      <th>wikipedia_page</th>\n    </tr>\n  </thead>\n  <tbody>\n    <tr>\n      <th>0</th>\n      <td>2</td>\n      <td>2006-01-01 00:00:00</td>\n      <td>NaN</td>\n      <td>NaN</td>\n      <td>&lt;p&gt;A Way Of Life, A Collective of Hip-Hop from...</td>\n      <td>0</td>\n      <td>2008-11-26 01:42:32</td>\n      <td>9</td>\n      <td>1</td>\n      <td>40.058324</td>\n      <td>New Jersey</td>\n      <td>-74.405661</td>\n      <td>Sajje Morocco,Brownbum,ZawidaGod,Custodian of ...</td>\n      <td>AWOL</td>\n      <td>The list of past projects is 2 long but every1...</td>\n      <td>['awol']</td>\n      <td>http://www.AzillionRecords.blogspot.com</td>\n      <td>NaN</td>\n    </tr>\n    <tr>\n      <th>1</th>\n      <td>3</td>\n      <td>2006-01-01 00:00:00</td>\n      <td>NaN</td>\n      <td>NaN</td>\n      <td>&lt;p&gt;A Way Of Life, A Collective of Hip-Hop from...</td>\n      <td>0</td>\n      <td>2008-11-26 01:42:32</td>\n      <td>9</td>\n      <td>1</td>\n      <td>40.058324</td>\n      <td>New Jersey</td>\n      <td>-74.405661</td>\n      <td>Sajje Morocco,Brownbum,ZawidaGod,Custodian of ...</td>\n      <td>AWOL</td>\n      <td>The list of past projects is 2 long but every1...</td>\n      <td>['awol']</td>\n      <td>http://www.AzillionRecords.blogspot.com</td>\n      <td>NaN</td>\n    </tr>\n    <tr>\n      <th>2</th>\n      <td>5</td>\n      <td>2006-01-01 00:00:00</td>\n      <td>NaN</td>\n      <td>NaN</td>\n      <td>&lt;p&gt;A Way Of Life, A Collective of Hip-Hop from...</td>\n      <td>0</td>\n      <td>2008-11-26 01:42:32</td>\n      <td>9</td>\n      <td>1</td>\n      <td>40.058324</td>\n      <td>New Jersey</td>\n      <td>-74.405661</td>\n      <td>Sajje Morocco,Brownbum,ZawidaGod,Custodian of ...</td>\n      <td>AWOL</td>\n      <td>The list of past projects is 2 long but every1...</td>\n      <td>['awol']</td>\n      <td>http://www.AzillionRecords.blogspot.com</td>\n      <td>NaN</td>\n    </tr>\n    <tr>\n      <th>3</th>\n      <td>10</td>\n      <td>NaN</td>\n      <td>NaN</td>\n      <td>Mexican Summer, Richie Records, Woodsist, Skul...</td>\n      <td>&lt;p&gt;&lt;span style=\"font-family:Verdana, Geneva, A...</td>\n      <td>3</td>\n      <td>2008-11-26 01:42:55</td>\n      <td>74</td>\n      <td>6</td>\n      <td>NaN</td>\n      <td>NaN</td>\n      <td>NaN</td>\n      <td>Kurt Vile, the Violators</td>\n      <td>Kurt Vile</td>\n      <td>NaN</td>\n      <td>['philly', 'kurt vile']</td>\n      <td>http://kurtvile.com</td>\n      <td>NaN</td>\n    </tr>\n    <tr>\n      <th>4</th>\n      <td>20</td>\n      <td>1990-01-01 00:00:00</td>\n      <td>2011-01-01 00:00:00</td>\n      <td>NaN</td>\n      <td>&lt;p&gt;Songs written by: Nicky Cook&lt;/p&gt;\\n&lt;p&gt;VOCALS...</td>\n      <td>2</td>\n      <td>2008-11-26 01:42:52</td>\n      <td>10</td>\n      <td>4</td>\n      <td>51.895927</td>\n      <td>Colchester England</td>\n      <td>0.891874</td>\n      <td>Nicky Cook\\n</td>\n      <td>Nicky Cook</td>\n      <td>NaN</td>\n      <td>['instrumentals', 'experimental pop', 'post pu...</td>\n      <td>NaN</td>\n      <td>NaN</td>\n    </tr>\n  </tbody>\n</table>\n</div>"
     },
     "metadata": {},
     "execution_count": 7
    }
   ],
   "source": [
    "artists.head()"
   ]
  },
  {
   "cell_type": "code",
   "execution_count": 8,
   "metadata": {
    "tags": []
   },
   "outputs": [
    {
     "output_type": "stream",
     "name": "stdout",
     "text": "========================\nTrying version: v3_0_5\nConnecting to musicgraph.i.tgcloud.io:14240\nWARNING: sun.reflect.Reflection.getCallerClass is not supported. This will impact performance.\nIf there is any relative path, it is relative to <System.AppRoot>/dev/gdk/gsql\nThe vertex type Artist is created.\n\n========================\nTrying version: v3_0_5\nConnecting to musicgraph.i.tgcloud.io:14240\nWARNING: sun.reflect.Reflection.getCallerClass is not supported. This will impact performance.\nIf there is any relative path, it is relative to <System.AppRoot>/dev/gdk/gsql\nThe vertex type Tag is created.\n\n"
    }
   ],
   "source": [
    "print(conn.gsql('''CREATE VERTEX Artist (PRIMARY_ID Id STRING, Name STRING, Members STRING, Bio STRING, Embedding LIST<DOUBLE>) WITH primary_id_as_attribute=\"true\"''', options=[]))\n",
    "\n",
    "print(conn.gsql('''CREATE VERTEX Tag (PRIMARY_ID Id STRING, Embedding LIST<DOUBLE>) WITH primary_id_as_attribute=\"true\"''', options=[]))"
   ]
  },
  {
   "cell_type": "code",
   "execution_count": 9,
   "metadata": {
    "tags": []
   },
   "outputs": [
    {
     "output_type": "stream",
     "name": "stdout",
     "text": "========================\nTrying version: v3_0_5\nConnecting to musicgraph.i.tgcloud.io:14240\nWARNING: sun.reflect.Reflection.getCallerClass is not supported. This will impact performance.\nIf there is any relative path, it is relative to <System.AppRoot>/dev/gdk/gsql\nThe vertex type Location is created.\n\n"
    }
   ],
   "source": [
    "print(conn.gsql('''CREATE VERTEX Location (PRIMARY_ID Loc STRING, Latitude DOUBLE, Longitude DOUBLE, Embedding LIST<DOUBLE>) WITH primary_id_as_attribute=\"true\"''', options=[]))"
   ]
  },
  {
   "cell_type": "code",
   "execution_count": 10,
   "metadata": {},
   "outputs": [
    {
     "output_type": "execute_result",
     "data": {
      "text/plain": "   genre_id  #tracks  parent          title  top_level\n0         1     8693      38    Avant-Garde         38\n1         2     5271       0  International          2\n2         3     1752       0          Blues          3\n3         4     4126       0           Jazz          4\n4         5     4106       0      Classical          5",
      "text/html": "<div>\n<style scoped>\n    .dataframe tbody tr th:only-of-type {\n        vertical-align: middle;\n    }\n\n    .dataframe tbody tr th {\n        vertical-align: top;\n    }\n\n    .dataframe thead th {\n        text-align: right;\n    }\n</style>\n<table border=\"1\" class=\"dataframe\">\n  <thead>\n    <tr style=\"text-align: right;\">\n      <th></th>\n      <th>genre_id</th>\n      <th>#tracks</th>\n      <th>parent</th>\n      <th>title</th>\n      <th>top_level</th>\n    </tr>\n  </thead>\n  <tbody>\n    <tr>\n      <th>0</th>\n      <td>1</td>\n      <td>8693</td>\n      <td>38</td>\n      <td>Avant-Garde</td>\n      <td>38</td>\n    </tr>\n    <tr>\n      <th>1</th>\n      <td>2</td>\n      <td>5271</td>\n      <td>0</td>\n      <td>International</td>\n      <td>2</td>\n    </tr>\n    <tr>\n      <th>2</th>\n      <td>3</td>\n      <td>1752</td>\n      <td>0</td>\n      <td>Blues</td>\n      <td>3</td>\n    </tr>\n    <tr>\n      <th>3</th>\n      <td>4</td>\n      <td>4126</td>\n      <td>0</td>\n      <td>Jazz</td>\n      <td>4</td>\n    </tr>\n    <tr>\n      <th>4</th>\n      <td>5</td>\n      <td>4106</td>\n      <td>0</td>\n      <td>Classical</td>\n      <td>5</td>\n    </tr>\n  </tbody>\n</table>\n</div>"
     },
     "metadata": {},
     "execution_count": 10
    }
   ],
   "source": [
    "genres.head()"
   ]
  },
  {
   "cell_type": "code",
   "execution_count": 11,
   "metadata": {
    "tags": []
   },
   "outputs": [
    {
     "output_type": "stream",
     "name": "stdout",
     "text": "========================\nTrying version: v3_0_5\nConnecting to musicgraph.i.tgcloud.io:14240\nWARNING: sun.reflect.Reflection.getCallerClass is not supported. This will impact performance.\nIf there is any relative path, it is relative to <System.AppRoot>/dev/gdk/gsql\nThe vertex type Genre is created.\n\n"
    }
   ],
   "source": [
    "print(conn.gsql('''CREATE VERTEX Genre (PRIMARY_ID Id STRING, Title STRING, NumTracks INT, Embedding LIST<DOUBLE>) WITH primary_id_as_attribute=\"true\"''', options=[]))"
   ]
  },
  {
   "cell_type": "code",
   "execution_count": 12,
   "metadata": {},
   "outputs": [
    {
     "output_type": "execute_result",
     "data": {
      "text/plain": "   track_id  bit_rate  comments   composer         date_created  \\\n0         2    256000         0        NaN  2008-11-26 01:48:12   \n1         3    256000         0        NaN  2008-11-26 01:48:14   \n2         5    256000         0        NaN  2008-11-26 01:48:20   \n3        10    192000         0  Kurt Vile  2008-11-25 17:49:06   \n4        20    256000         0        NaN  2008-11-26 01:48:56   \n\n         date_recorded  duration  favorites genre_top     genres  ...  \\\n0  2008-11-26 00:00:00       168          2   Hip-Hop       [21]  ...   \n1  2008-11-26 00:00:00       237          1   Hip-Hop       [21]  ...   \n2  2008-11-26 00:00:00       206          6   Hip-Hop       [21]  ...   \n3  2008-11-26 00:00:00       161        178       Pop       [10]  ...   \n4  2008-01-01 00:00:00       311          0       NaN  [76, 103]  ...   \n\n  information interest  language_code  \\\n0         NaN     4656             en   \n1         NaN     1470             en   \n2         NaN     1933             en   \n3         NaN    54881             en   \n4         NaN      978             en   \n\n                                             license listens  lyricist number  \\\n0  Attribution-NonCommercial-ShareAlike 3.0 Inter...    1293       NaN      3   \n1  Attribution-NonCommercial-ShareAlike 3.0 Inter...     514       NaN      4   \n2  Attribution-NonCommercial-ShareAlike 3.0 Inter...    1151       NaN      6   \n3  Attribution-NonCommercial-NoDerivatives (aka M...   50135       NaN      1   \n4  Attribution-NonCommercial-NoDerivatives (aka M...     361       NaN      3   \n\n   publisher tags            title  \n0        NaN   []             Food  \n1        NaN   []     Electric Ave  \n2        NaN   []       This World  \n3        NaN   []          Freeway  \n4        NaN   []  Spiritual Level  \n\n[5 rows x 21 columns]",
      "text/html": "<div>\n<style scoped>\n    .dataframe tbody tr th:only-of-type {\n        vertical-align: middle;\n    }\n\n    .dataframe tbody tr th {\n        vertical-align: top;\n    }\n\n    .dataframe thead th {\n        text-align: right;\n    }\n</style>\n<table border=\"1\" class=\"dataframe\">\n  <thead>\n    <tr style=\"text-align: right;\">\n      <th></th>\n      <th>track_id</th>\n      <th>bit_rate</th>\n      <th>comments</th>\n      <th>composer</th>\n      <th>date_created</th>\n      <th>date_recorded</th>\n      <th>duration</th>\n      <th>favorites</th>\n      <th>genre_top</th>\n      <th>genres</th>\n      <th>...</th>\n      <th>information</th>\n      <th>interest</th>\n      <th>language_code</th>\n      <th>license</th>\n      <th>listens</th>\n      <th>lyricist</th>\n      <th>number</th>\n      <th>publisher</th>\n      <th>tags</th>\n      <th>title</th>\n    </tr>\n  </thead>\n  <tbody>\n    <tr>\n      <th>0</th>\n      <td>2</td>\n      <td>256000</td>\n      <td>0</td>\n      <td>NaN</td>\n      <td>2008-11-26 01:48:12</td>\n      <td>2008-11-26 00:00:00</td>\n      <td>168</td>\n      <td>2</td>\n      <td>Hip-Hop</td>\n      <td>[21]</td>\n      <td>...</td>\n      <td>NaN</td>\n      <td>4656</td>\n      <td>en</td>\n      <td>Attribution-NonCommercial-ShareAlike 3.0 Inter...</td>\n      <td>1293</td>\n      <td>NaN</td>\n      <td>3</td>\n      <td>NaN</td>\n      <td>[]</td>\n      <td>Food</td>\n    </tr>\n    <tr>\n      <th>1</th>\n      <td>3</td>\n      <td>256000</td>\n      <td>0</td>\n      <td>NaN</td>\n      <td>2008-11-26 01:48:14</td>\n      <td>2008-11-26 00:00:00</td>\n      <td>237</td>\n      <td>1</td>\n      <td>Hip-Hop</td>\n      <td>[21]</td>\n      <td>...</td>\n      <td>NaN</td>\n      <td>1470</td>\n      <td>en</td>\n      <td>Attribution-NonCommercial-ShareAlike 3.0 Inter...</td>\n      <td>514</td>\n      <td>NaN</td>\n      <td>4</td>\n      <td>NaN</td>\n      <td>[]</td>\n      <td>Electric Ave</td>\n    </tr>\n    <tr>\n      <th>2</th>\n      <td>5</td>\n      <td>256000</td>\n      <td>0</td>\n      <td>NaN</td>\n      <td>2008-11-26 01:48:20</td>\n      <td>2008-11-26 00:00:00</td>\n      <td>206</td>\n      <td>6</td>\n      <td>Hip-Hop</td>\n      <td>[21]</td>\n      <td>...</td>\n      <td>NaN</td>\n      <td>1933</td>\n      <td>en</td>\n      <td>Attribution-NonCommercial-ShareAlike 3.0 Inter...</td>\n      <td>1151</td>\n      <td>NaN</td>\n      <td>6</td>\n      <td>NaN</td>\n      <td>[]</td>\n      <td>This World</td>\n    </tr>\n    <tr>\n      <th>3</th>\n      <td>10</td>\n      <td>192000</td>\n      <td>0</td>\n      <td>Kurt Vile</td>\n      <td>2008-11-25 17:49:06</td>\n      <td>2008-11-26 00:00:00</td>\n      <td>161</td>\n      <td>178</td>\n      <td>Pop</td>\n      <td>[10]</td>\n      <td>...</td>\n      <td>NaN</td>\n      <td>54881</td>\n      <td>en</td>\n      <td>Attribution-NonCommercial-NoDerivatives (aka M...</td>\n      <td>50135</td>\n      <td>NaN</td>\n      <td>1</td>\n      <td>NaN</td>\n      <td>[]</td>\n      <td>Freeway</td>\n    </tr>\n    <tr>\n      <th>4</th>\n      <td>20</td>\n      <td>256000</td>\n      <td>0</td>\n      <td>NaN</td>\n      <td>2008-11-26 01:48:56</td>\n      <td>2008-01-01 00:00:00</td>\n      <td>311</td>\n      <td>0</td>\n      <td>NaN</td>\n      <td>[76, 103]</td>\n      <td>...</td>\n      <td>NaN</td>\n      <td>978</td>\n      <td>en</td>\n      <td>Attribution-NonCommercial-NoDerivatives (aka M...</td>\n      <td>361</td>\n      <td>NaN</td>\n      <td>3</td>\n      <td>NaN</td>\n      <td>[]</td>\n      <td>Spiritual Level</td>\n    </tr>\n  </tbody>\n</table>\n<p>5 rows × 21 columns</p>\n</div>"
     },
     "metadata": {},
     "execution_count": 12
    }
   ],
   "source": [
    "tracks.head()"
   ]
  },
  {
   "cell_type": "markdown",
   "metadata": {},
   "source": [
    "# Add Features to Tracks"
   ]
  },
  {
   "cell_type": "code",
   "execution_count": 13,
   "metadata": {},
   "outputs": [
    {
     "output_type": "execute_result",
     "data": {
      "text/plain": "   feature  chroma_cens  chroma_cens.1  chroma_cens.2  chroma_cens.3  \\\n0        2     7.180653       5.230309       0.249321       1.347620   \n1        3     1.888963       0.760539       0.345297       2.295201   \n2        5     0.527563      -0.077654      -0.279610       0.685883   \n3       10     3.702245      -0.291193       2.196742      -0.234449   \n4       20    -0.193837      -0.198527       0.201546       0.258556   \n\n   chroma_cens.4  chroma_cens.5  chroma_cens.6  chroma_cens.7  chroma_cens.8  \\\n0       1.482478       0.531371       1.481593       2.691455       0.866868   \n1       1.654031       0.067592       1.366848       1.054094       0.108103   \n2       1.937570       0.880839      -0.923192      -0.927232       0.666617   \n3       1.367364       0.998411       1.770694       1.604566       0.521217   \n4       0.775204       0.084794      -0.289294      -0.816410       0.043851   \n\n   ...  Unnamed: 1026  Unnamed: 1027  Unnamed: 1028  Unnamed: 1029  \\\n0  ...            NaN            NaN            NaN            NaN   \n1  ...            NaN            NaN            NaN            NaN   \n2  ...            NaN            NaN            NaN            NaN   \n3  ...            NaN            NaN            NaN            NaN   \n4  ...            NaN            NaN            NaN            NaN   \n\n   Unnamed: 1030  Unnamed: 1031  Unnamed: 1032  Unnamed: 1033  Unnamed: 1034  \\\n0            NaN            NaN            NaN            NaN            NaN   \n1            NaN            NaN            NaN            NaN            NaN   \n2            NaN            NaN            NaN            NaN            NaN   \n3            NaN            NaN            NaN            NaN            NaN   \n4            NaN            NaN            NaN            NaN            NaN   \n\n   Unnamed: 1035  \n0            NaN  \n1            NaN  \n2            NaN  \n3            NaN  \n4            NaN  \n\n[5 rows x 1036 columns]",
      "text/html": "<div>\n<style scoped>\n    .dataframe tbody tr th:only-of-type {\n        vertical-align: middle;\n    }\n\n    .dataframe tbody tr th {\n        vertical-align: top;\n    }\n\n    .dataframe thead th {\n        text-align: right;\n    }\n</style>\n<table border=\"1\" class=\"dataframe\">\n  <thead>\n    <tr style=\"text-align: right;\">\n      <th></th>\n      <th>feature</th>\n      <th>chroma_cens</th>\n      <th>chroma_cens.1</th>\n      <th>chroma_cens.2</th>\n      <th>chroma_cens.3</th>\n      <th>chroma_cens.4</th>\n      <th>chroma_cens.5</th>\n      <th>chroma_cens.6</th>\n      <th>chroma_cens.7</th>\n      <th>chroma_cens.8</th>\n      <th>...</th>\n      <th>Unnamed: 1026</th>\n      <th>Unnamed: 1027</th>\n      <th>Unnamed: 1028</th>\n      <th>Unnamed: 1029</th>\n      <th>Unnamed: 1030</th>\n      <th>Unnamed: 1031</th>\n      <th>Unnamed: 1032</th>\n      <th>Unnamed: 1033</th>\n      <th>Unnamed: 1034</th>\n      <th>Unnamed: 1035</th>\n    </tr>\n  </thead>\n  <tbody>\n    <tr>\n      <th>0</th>\n      <td>2</td>\n      <td>7.180653</td>\n      <td>5.230309</td>\n      <td>0.249321</td>\n      <td>1.347620</td>\n      <td>1.482478</td>\n      <td>0.531371</td>\n      <td>1.481593</td>\n      <td>2.691455</td>\n      <td>0.866868</td>\n      <td>...</td>\n      <td>NaN</td>\n      <td>NaN</td>\n      <td>NaN</td>\n      <td>NaN</td>\n      <td>NaN</td>\n      <td>NaN</td>\n      <td>NaN</td>\n      <td>NaN</td>\n      <td>NaN</td>\n      <td>NaN</td>\n    </tr>\n    <tr>\n      <th>1</th>\n      <td>3</td>\n      <td>1.888963</td>\n      <td>0.760539</td>\n      <td>0.345297</td>\n      <td>2.295201</td>\n      <td>1.654031</td>\n      <td>0.067592</td>\n      <td>1.366848</td>\n      <td>1.054094</td>\n      <td>0.108103</td>\n      <td>...</td>\n      <td>NaN</td>\n      <td>NaN</td>\n      <td>NaN</td>\n      <td>NaN</td>\n      <td>NaN</td>\n      <td>NaN</td>\n      <td>NaN</td>\n      <td>NaN</td>\n      <td>NaN</td>\n      <td>NaN</td>\n    </tr>\n    <tr>\n      <th>2</th>\n      <td>5</td>\n      <td>0.527563</td>\n      <td>-0.077654</td>\n      <td>-0.279610</td>\n      <td>0.685883</td>\n      <td>1.937570</td>\n      <td>0.880839</td>\n      <td>-0.923192</td>\n      <td>-0.927232</td>\n      <td>0.666617</td>\n      <td>...</td>\n      <td>NaN</td>\n      <td>NaN</td>\n      <td>NaN</td>\n      <td>NaN</td>\n      <td>NaN</td>\n      <td>NaN</td>\n      <td>NaN</td>\n      <td>NaN</td>\n      <td>NaN</td>\n      <td>NaN</td>\n    </tr>\n    <tr>\n      <th>3</th>\n      <td>10</td>\n      <td>3.702245</td>\n      <td>-0.291193</td>\n      <td>2.196742</td>\n      <td>-0.234449</td>\n      <td>1.367364</td>\n      <td>0.998411</td>\n      <td>1.770694</td>\n      <td>1.604566</td>\n      <td>0.521217</td>\n      <td>...</td>\n      <td>NaN</td>\n      <td>NaN</td>\n      <td>NaN</td>\n      <td>NaN</td>\n      <td>NaN</td>\n      <td>NaN</td>\n      <td>NaN</td>\n      <td>NaN</td>\n      <td>NaN</td>\n      <td>NaN</td>\n    </tr>\n    <tr>\n      <th>4</th>\n      <td>20</td>\n      <td>-0.193837</td>\n      <td>-0.198527</td>\n      <td>0.201546</td>\n      <td>0.258556</td>\n      <td>0.775204</td>\n      <td>0.084794</td>\n      <td>-0.289294</td>\n      <td>-0.816410</td>\n      <td>0.043851</td>\n      <td>...</td>\n      <td>NaN</td>\n      <td>NaN</td>\n      <td>NaN</td>\n      <td>NaN</td>\n      <td>NaN</td>\n      <td>NaN</td>\n      <td>NaN</td>\n      <td>NaN</td>\n      <td>NaN</td>\n      <td>NaN</td>\n    </tr>\n  </tbody>\n</table>\n<p>5 rows × 1036 columns</p>\n</div>"
     },
     "metadata": {},
     "execution_count": 13
    }
   ],
   "source": [
    "features.head()"
   ]
  },
  {
   "cell_type": "code",
   "execution_count": 14,
   "metadata": {},
   "outputs": [],
   "source": [
    "cens = [\"feature\"] + [col for col in features if col.startswith('chroma_cens')] \n",
    "cens = features[cens]\n",
    "cens[\"vector\"] = cens[[col for col in cens if col.startswith('chroma_cens')]].values.tolist()\n",
    "cens.drop([col for col in cens if col.startswith('chroma_cens')], axis=1, inplace=True)"
   ]
  },
  {
   "cell_type": "code",
   "execution_count": 15,
   "metadata": {},
   "outputs": [
    {
     "output_type": "execute_result",
     "data": {
      "text/plain": "   feature                                             vector\n0        2  [7.1806526184, 5.2303090096, 0.24932080507, 1....\n1        3  [1.8889633417, 0.7605392932899999, 0.345296561...\n2        5  [0.52756297588, -0.07765431702100001, -0.27961...\n3       10  [3.7022454739, -0.29119303823000003, 2.1967420...\n4       20  [-0.19383698702, -0.19852678478, 0.20154602826...",
      "text/html": "<div>\n<style scoped>\n    .dataframe tbody tr th:only-of-type {\n        vertical-align: middle;\n    }\n\n    .dataframe tbody tr th {\n        vertical-align: top;\n    }\n\n    .dataframe thead th {\n        text-align: right;\n    }\n</style>\n<table border=\"1\" class=\"dataframe\">\n  <thead>\n    <tr style=\"text-align: right;\">\n      <th></th>\n      <th>feature</th>\n      <th>vector</th>\n    </tr>\n  </thead>\n  <tbody>\n    <tr>\n      <th>0</th>\n      <td>2</td>\n      <td>[7.1806526184, 5.2303090096, 0.24932080507, 1....</td>\n    </tr>\n    <tr>\n      <th>1</th>\n      <td>3</td>\n      <td>[1.8889633417, 0.7605392932899999, 0.345296561...</td>\n    </tr>\n    <tr>\n      <th>2</th>\n      <td>5</td>\n      <td>[0.52756297588, -0.07765431702100001, -0.27961...</td>\n    </tr>\n    <tr>\n      <th>3</th>\n      <td>10</td>\n      <td>[3.7022454739, -0.29119303823000003, 2.1967420...</td>\n    </tr>\n    <tr>\n      <th>4</th>\n      <td>20</td>\n      <td>[-0.19383698702, -0.19852678478, 0.20154602826...</td>\n    </tr>\n  </tbody>\n</table>\n</div>"
     },
     "metadata": {},
     "execution_count": 15
    }
   ],
   "source": [
    "cens.head()"
   ]
  },
  {
   "cell_type": "code",
   "execution_count": 16,
   "metadata": {},
   "outputs": [],
   "source": [
    "tracks = tracks.merge(cens, left_on=\"track_id\", right_on=\"feature\")"
   ]
  },
  {
   "cell_type": "code",
   "execution_count": 17,
   "metadata": {},
   "outputs": [
    {
     "output_type": "execute_result",
     "data": {
      "text/plain": "   track_id  bit_rate  comments   composer         date_created  \\\n0         2    256000         0        NaN  2008-11-26 01:48:12   \n1         3    256000         0        NaN  2008-11-26 01:48:14   \n2         5    256000         0        NaN  2008-11-26 01:48:20   \n3        10    192000         0  Kurt Vile  2008-11-25 17:49:06   \n4        20    256000         0        NaN  2008-11-26 01:48:56   \n\n         date_recorded  duration  favorites genre_top     genres  ...  \\\n0  2008-11-26 00:00:00       168          2   Hip-Hop       [21]  ...   \n1  2008-11-26 00:00:00       237          1   Hip-Hop       [21]  ...   \n2  2008-11-26 00:00:00       206          6   Hip-Hop       [21]  ...   \n3  2008-11-26 00:00:00       161        178       Pop       [10]  ...   \n4  2008-01-01 00:00:00       311          0       NaN  [76, 103]  ...   \n\n  language_code                                            license  listens  \\\n0            en  Attribution-NonCommercial-ShareAlike 3.0 Inter...     1293   \n1            en  Attribution-NonCommercial-ShareAlike 3.0 Inter...      514   \n2            en  Attribution-NonCommercial-ShareAlike 3.0 Inter...     1151   \n3            en  Attribution-NonCommercial-NoDerivatives (aka M...    50135   \n4            en  Attribution-NonCommercial-NoDerivatives (aka M...      361   \n\n  lyricist number  publisher tags            title feature  \\\n0      NaN      3        NaN   []             Food       2   \n1      NaN      4        NaN   []     Electric Ave       3   \n2      NaN      6        NaN   []       This World       5   \n3      NaN      1        NaN   []          Freeway      10   \n4      NaN      3        NaN   []  Spiritual Level      20   \n\n                                              vector  \n0  [7.1806526184, 5.2303090096, 0.24932080507, 1....  \n1  [1.8889633417, 0.7605392932899999, 0.345296561...  \n2  [0.52756297588, -0.07765431702100001, -0.27961...  \n3  [3.7022454739, -0.29119303823000003, 2.1967420...  \n4  [-0.19383698702, -0.19852678478, 0.20154602826...  \n\n[5 rows x 23 columns]",
      "text/html": "<div>\n<style scoped>\n    .dataframe tbody tr th:only-of-type {\n        vertical-align: middle;\n    }\n\n    .dataframe tbody tr th {\n        vertical-align: top;\n    }\n\n    .dataframe thead th {\n        text-align: right;\n    }\n</style>\n<table border=\"1\" class=\"dataframe\">\n  <thead>\n    <tr style=\"text-align: right;\">\n      <th></th>\n      <th>track_id</th>\n      <th>bit_rate</th>\n      <th>comments</th>\n      <th>composer</th>\n      <th>date_created</th>\n      <th>date_recorded</th>\n      <th>duration</th>\n      <th>favorites</th>\n      <th>genre_top</th>\n      <th>genres</th>\n      <th>...</th>\n      <th>language_code</th>\n      <th>license</th>\n      <th>listens</th>\n      <th>lyricist</th>\n      <th>number</th>\n      <th>publisher</th>\n      <th>tags</th>\n      <th>title</th>\n      <th>feature</th>\n      <th>vector</th>\n    </tr>\n  </thead>\n  <tbody>\n    <tr>\n      <th>0</th>\n      <td>2</td>\n      <td>256000</td>\n      <td>0</td>\n      <td>NaN</td>\n      <td>2008-11-26 01:48:12</td>\n      <td>2008-11-26 00:00:00</td>\n      <td>168</td>\n      <td>2</td>\n      <td>Hip-Hop</td>\n      <td>[21]</td>\n      <td>...</td>\n      <td>en</td>\n      <td>Attribution-NonCommercial-ShareAlike 3.0 Inter...</td>\n      <td>1293</td>\n      <td>NaN</td>\n      <td>3</td>\n      <td>NaN</td>\n      <td>[]</td>\n      <td>Food</td>\n      <td>2</td>\n      <td>[7.1806526184, 5.2303090096, 0.24932080507, 1....</td>\n    </tr>\n    <tr>\n      <th>1</th>\n      <td>3</td>\n      <td>256000</td>\n      <td>0</td>\n      <td>NaN</td>\n      <td>2008-11-26 01:48:14</td>\n      <td>2008-11-26 00:00:00</td>\n      <td>237</td>\n      <td>1</td>\n      <td>Hip-Hop</td>\n      <td>[21]</td>\n      <td>...</td>\n      <td>en</td>\n      <td>Attribution-NonCommercial-ShareAlike 3.0 Inter...</td>\n      <td>514</td>\n      <td>NaN</td>\n      <td>4</td>\n      <td>NaN</td>\n      <td>[]</td>\n      <td>Electric Ave</td>\n      <td>3</td>\n      <td>[1.8889633417, 0.7605392932899999, 0.345296561...</td>\n    </tr>\n    <tr>\n      <th>2</th>\n      <td>5</td>\n      <td>256000</td>\n      <td>0</td>\n      <td>NaN</td>\n      <td>2008-11-26 01:48:20</td>\n      <td>2008-11-26 00:00:00</td>\n      <td>206</td>\n      <td>6</td>\n      <td>Hip-Hop</td>\n      <td>[21]</td>\n      <td>...</td>\n      <td>en</td>\n      <td>Attribution-NonCommercial-ShareAlike 3.0 Inter...</td>\n      <td>1151</td>\n      <td>NaN</td>\n      <td>6</td>\n      <td>NaN</td>\n      <td>[]</td>\n      <td>This World</td>\n      <td>5</td>\n      <td>[0.52756297588, -0.07765431702100001, -0.27961...</td>\n    </tr>\n    <tr>\n      <th>3</th>\n      <td>10</td>\n      <td>192000</td>\n      <td>0</td>\n      <td>Kurt Vile</td>\n      <td>2008-11-25 17:49:06</td>\n      <td>2008-11-26 00:00:00</td>\n      <td>161</td>\n      <td>178</td>\n      <td>Pop</td>\n      <td>[10]</td>\n      <td>...</td>\n      <td>en</td>\n      <td>Attribution-NonCommercial-NoDerivatives (aka M...</td>\n      <td>50135</td>\n      <td>NaN</td>\n      <td>1</td>\n      <td>NaN</td>\n      <td>[]</td>\n      <td>Freeway</td>\n      <td>10</td>\n      <td>[3.7022454739, -0.29119303823000003, 2.1967420...</td>\n    </tr>\n    <tr>\n      <th>4</th>\n      <td>20</td>\n      <td>256000</td>\n      <td>0</td>\n      <td>NaN</td>\n      <td>2008-11-26 01:48:56</td>\n      <td>2008-01-01 00:00:00</td>\n      <td>311</td>\n      <td>0</td>\n      <td>NaN</td>\n      <td>[76, 103]</td>\n      <td>...</td>\n      <td>en</td>\n      <td>Attribution-NonCommercial-NoDerivatives (aka M...</td>\n      <td>361</td>\n      <td>NaN</td>\n      <td>3</td>\n      <td>NaN</td>\n      <td>[]</td>\n      <td>Spiritual Level</td>\n      <td>20</td>\n      <td>[-0.19383698702, -0.19852678478, 0.20154602826...</td>\n    </tr>\n  </tbody>\n</table>\n<p>5 rows × 23 columns</p>\n</div>"
     },
     "metadata": {},
     "execution_count": 17
    }
   ],
   "source": [
    "tracks.head()"
   ]
  },
  {
   "cell_type": "code",
   "execution_count": 18,
   "metadata": {
    "tags": []
   },
   "outputs": [
    {
     "output_type": "stream",
     "name": "stdout",
     "text": "========================\nTrying version: v3_0_5\nConnecting to musicgraph.i.tgcloud.io:14240\nWARNING: sun.reflect.Reflection.getCallerClass is not supported. This will impact performance.\nIf there is any relative path, it is relative to <System.AppRoot>/dev/gdk/gsql\nThe vertex type Track is created.\n\n"
    }
   ],
   "source": [
    "print(conn.gsql('''\n",
    "                CREATE VERTEX Track (PRIMARY_ID Id STRING, Title String, DateRecorded DATETIME, Duration INT, Features LIST<DOUBLE>, Embedding LIST<DOUBLE>)\n",
    "                ''', options=[]))"
   ]
  },
  {
   "cell_type": "markdown",
   "metadata": {},
   "source": [
    "# Create Edges"
   ]
  },
  {
   "cell_type": "code",
   "execution_count": 19,
   "metadata": {
    "tags": []
   },
   "outputs": [
    {
     "output_type": "stream",
     "name": "stdout",
     "text": "========================\nTrying version: v3_0_5\nConnecting to musicgraph.i.tgcloud.io:14240\nWARNING: sun.reflect.Reflection.getCallerClass is not supported. This will impact performance.\nIf there is any relative path, it is relative to <System.AppRoot>/dev/gdk/gsql\nThe edge type trackInAlbum is created.\nThe reverse edge type albumHasTrack is created.\n\n========================\nTrying version: v3_0_5\nConnecting to musicgraph.i.tgcloud.io:14240\nWARNING: sun.reflect.Reflection.getCallerClass is not supported. This will impact performance.\nIf there is any relative path, it is relative to <System.AppRoot>/dev/gdk/gsql\nThe edge type artistPerformedTrack is created.\nThe reverse edge type trackPerformedByArtist is created.\n\n========================\nTrying version: v3_0_5\nConnecting to musicgraph.i.tgcloud.io:14240\nWARNING: sun.reflect.Reflection.getCallerClass is not supported. This will impact performance.\nIf there is any relative path, it is relative to <System.AppRoot>/dev/gdk/gsql\nThe edge type trackInGenre is created.\nThe reverse edge type genreContainsTrack is created.\n\n========================\nTrying version: v3_0_5\nConnecting to musicgraph.i.tgcloud.io:14240\nWARNING: sun.reflect.Reflection.getCallerClass is not supported. This will impact performance.\nIf there is any relative path, it is relative to <System.AppRoot>/dev/gdk/gsql\nThe edge type artistHasTag is created.\nThe reverse edge type tagDescribesArtist is created.\n\n========================\nTrying version: v3_0_5\nConnecting to musicgraph.i.tgcloud.io:14240\nWARNING: sun.reflect.Reflection.getCallerClass is not supported. This will impact performance.\nIf there is any relative path, it is relative to <System.AppRoot>/dev/gdk/gsql\nThe edge type artistFromLocation is created.\nThe reverse edge type locationHasArtist is created.\n\n========================\nTrying version: v3_0_5\nConnecting to musicgraph.i.tgcloud.io:14240\nWARNING: sun.reflect.Reflection.getCallerClass is not supported. This will impact performance.\nIf there is any relative path, it is relative to <System.AppRoot>/dev/gdk/gsql\nThe edge type childGenre is created.\nThe reverse edge type parentGenre is created.\n\n"
    }
   ],
   "source": [
    "print(conn.gsql('CREATE DIRECTED EDGE trackInAlbum (FROM Track, TO Album) WITH REVERSE_EDGE=\"albumHasTrack\"', options=[]))\n",
    "print(conn.gsql('CREATE DIRECTED EDGE artistPerformedTrack (FROM Artist, TO Track) WITH REVERSE_EDGE=\"trackPerformedByArtist\"', options=[]))\n",
    "print(conn.gsql('CREATE DIRECTED EDGE trackInGenre (FROM Track, TO Genre) WITH REVERSE_EDGE=\"genreContainsTrack\"', options=[]))\n",
    "print(conn.gsql('CREATE DIRECTED EDGE artistHasTag (FROM Artist, TO Tag) WITH REVERSE_EDGE=\"tagDescribesArtist\"', options=[]))\n",
    "print(conn.gsql('CREATE DIRECTED EDGE artistFromLocation (FROM Artist, TO Location) WITH REVERSE_EDGE=\"locationHasArtist\"', options=[]))\n",
    "\n",
    "print(conn.gsql('CREATE DIRECTED EDGE childGenre (FROM Genre, TO Genre) WITH REVERSE_EDGE=\"parentGenre\"', options=[]))"
   ]
  },
  {
   "cell_type": "code",
   "execution_count": 20,
   "metadata": {
    "tags": []
   },
   "outputs": [
    {
     "output_type": "stream",
     "name": "stdout",
     "text": "========================\nTrying version: v3_0_5\nConnecting to musicgraph.i.tgcloud.io:14240\nWARNING: sun.reflect.Reflection.getCallerClass is not supported. This will impact performance.\nIf there is any relative path, it is relative to <System.AppRoot>/dev/gdk/gsql\n---- Global vertices, edges, and all graphs\nVertex Types: \n  - VERTEX Album(PRIMARY_ID Id STRING, Title STRING, Tracks INT, Listens INT, Information STRING, Embedding LIST<DOUBLE>) WITH STATS=\"OUTDEGREE_BY_EDGETYPE\", PRIMARY_ID_AS_ATTRIBUTE=\"true\"\n  - VERTEX Artist(PRIMARY_ID Id STRING, Name STRING, Members STRING, Bio STRING, Embedding LIST<DOUBLE>) WITH STATS=\"OUTDEGREE_BY_EDGETYPE\", PRIMARY_ID_AS_ATTRIBUTE=\"true\"\n  - VERTEX Tag(PRIMARY_ID Id STRING, Embedding LIST<DOUBLE>) WITH STATS=\"OUTDEGREE_BY_EDGETYPE\", PRIMARY_ID_AS_ATTRIBUTE=\"true\"\n  - VERTEX Location(PRIMARY_ID Loc STRING, Latitude DOUBLE, Longitude DOUBLE, Embedding LIST<DOUBLE>) WITH STATS=\"OUTDEGREE_BY_EDGETYPE\", PRIMARY_ID_AS_ATTRIBUTE=\"true\"\n  - VERTEX Genre(PRIMARY_ID Id STRING, Title STRING, NumTracks INT, Embedding LIST<DOUBLE>) WITH STATS=\"OUTDEGREE_BY_EDGETYPE\", PRIMARY_ID_AS_ATTRIBUTE=\"true\"\n  - VERTEX Track(PRIMARY_ID Id STRING, Title STRING, DateRecorded DATETIME, Duration INT, Features LIST<DOUBLE>, Embedding LIST<DOUBLE>) WITH STATS=\"OUTDEGREE_BY_EDGETYPE\"\nEdge Types: \n  - DIRECTED EDGE trackInAlbum(FROM Track, TO Album) WITH REVERSE_EDGE=\"albumHasTrack\"\n  - DIRECTED EDGE albumHasTrack(FROM Album, TO Track) WITH REVERSE_EDGE=\"trackInAlbum\"\n  - DIRECTED EDGE artistPerformedTrack(FROM Artist, TO Track) WITH REVERSE_EDGE=\"trackPerformedByArtist\"\n  - DIRECTED EDGE trackPerformedByArtist(FROM Track, TO Artist) WITH REVERSE_EDGE=\"artistPerformedTrack\"\n  - DIRECTED EDGE trackInGenre(FROM Track, TO Genre) WITH REVERSE_EDGE=\"genreContainsTrack\"\n  - DIRECTED EDGE genreContainsTrack(FROM Genre, TO Track) WITH REVERSE_EDGE=\"trackInGenre\"\n  - DIRECTED EDGE artistHasTag(FROM Artist, TO Tag) WITH REVERSE_EDGE=\"tagDescribesArtist\"\n  - DIRECTED EDGE tagDescribesArtist(FROM Tag, TO Artist) WITH REVERSE_EDGE=\"artistHasTag\"\n  - DIRECTED EDGE artistFromLocation(FROM Artist, TO Location) WITH REVERSE_EDGE=\"locationHasArtist\"\n  - DIRECTED EDGE locationHasArtist(FROM Location, TO Artist) WITH REVERSE_EDGE=\"artistFromLocation\"\n  - DIRECTED EDGE childGenre(FROM Genre, TO Genre) WITH REVERSE_EDGE=\"parentGenre\"\n  - DIRECTED EDGE parentGenre(FROM Genre, TO Genre) WITH REVERSE_EDGE=\"childGenre\"\n\nGraphs: \nJobs: \n\n\nJSON API version: v2\nSyntax version: v1\n\n\n"
    }
   ],
   "source": [
    "print(conn.gsql('LS', options=[]))"
   ]
  },
  {
   "cell_type": "markdown",
   "metadata": {},
   "source": [
    "# Create Graph"
   ]
  },
  {
   "cell_type": "code",
   "execution_count": 21,
   "metadata": {
    "tags": []
   },
   "outputs": [
    {
     "output_type": "stream",
     "name": "stdout",
     "text": "========================\nTrying version: v3_0_5\nConnecting to musicgraph.i.tgcloud.io:14240\nWARNING: sun.reflect.Reflection.getCallerClass is not supported. This will impact performance.\nIf there is any relative path, it is relative to <System.AppRoot>/dev/gdk/gsql\nStopping GPE GSE RESTPP\nSuccessfully stopped GPE GSE RESTPP in 0.006 seconds\nStarting GPE GSE RESTPP\nSuccessfully started GPE GSE RESTPP in 0.255 seconds\nThe graph musicGraph is created.\n\n"
    }
   ],
   "source": [
    "print(conn.gsql('''CREATE GRAPH musicGraph(Album, Artist, Tag, Location, Genre, Track, trackInAlbum, albumHasTrack, trackInGenre, genreContainsTrack, artistHasTag, tagDescribesArtist, artistFromLocation, locationHasArtist, childGenre, parentGenre, artistPerformedTrack, trackPerformedByArtist)''', options=[]))"
   ]
  },
  {
   "cell_type": "markdown",
   "metadata": {},
   "source": [
    "# Load Data"
   ]
  },
  {
   "cell_type": "code",
   "execution_count": 22,
   "metadata": {
    "tags": []
   },
   "outputs": [],
   "source": [
    "conn.graphname = \"musicGraph\"\n",
    "conn.apiToken = conn.getToken(conn.createSecret())"
   ]
  },
  {
   "cell_type": "code",
   "execution_count": 23,
   "metadata": {},
   "outputs": [
    {
     "output_type": "execute_result",
     "data": {
      "text/plain": "   track_id  comments         date_created        date_released engineer  \\\n0         2         0  2008-11-26 01:44:45  2009-01-05 00:00:00      NaN   \n1         3         0  2008-11-26 01:44:45  2009-01-05 00:00:00      NaN   \n2         5         0  2008-11-26 01:44:45  2009-01-05 00:00:00      NaN   \n3        10         0  2008-11-26 01:45:08  2008-02-06 00:00:00      NaN   \n4        20         0  2008-11-26 01:45:05  2009-01-06 00:00:00      NaN   \n\n   favorites  id                                information  listens producer  \\\n0          4   1                                    <p></p>     6073      NaN   \n1          4   1                                    <p></p>     6073      NaN   \n2          4   1                                    <p></p>     6073      NaN   \n3          4   6                                        NaN    47632      NaN   \n4          2   4  <p> \"spiritual songs\" from Nicky Cook</p>     2710      NaN   \n\n  tags                 title  tracks   type  \n0   []  AWOL - A Way Of Life       7  Album  \n1   []  AWOL - A Way Of Life       7  Album  \n2   []  AWOL - A Way Of Life       7  Album  \n3   []     Constant Hitmaker       2  Album  \n4   []                 Niris      13  Album  ",
      "text/html": "<div>\n<style scoped>\n    .dataframe tbody tr th:only-of-type {\n        vertical-align: middle;\n    }\n\n    .dataframe tbody tr th {\n        vertical-align: top;\n    }\n\n    .dataframe thead th {\n        text-align: right;\n    }\n</style>\n<table border=\"1\" class=\"dataframe\">\n  <thead>\n    <tr style=\"text-align: right;\">\n      <th></th>\n      <th>track_id</th>\n      <th>comments</th>\n      <th>date_created</th>\n      <th>date_released</th>\n      <th>engineer</th>\n      <th>favorites</th>\n      <th>id</th>\n      <th>information</th>\n      <th>listens</th>\n      <th>producer</th>\n      <th>tags</th>\n      <th>title</th>\n      <th>tracks</th>\n      <th>type</th>\n    </tr>\n  </thead>\n  <tbody>\n    <tr>\n      <th>0</th>\n      <td>2</td>\n      <td>0</td>\n      <td>2008-11-26 01:44:45</td>\n      <td>2009-01-05 00:00:00</td>\n      <td>NaN</td>\n      <td>4</td>\n      <td>1</td>\n      <td>&lt;p&gt;&lt;/p&gt;</td>\n      <td>6073</td>\n      <td>NaN</td>\n      <td>[]</td>\n      <td>AWOL - A Way Of Life</td>\n      <td>7</td>\n      <td>Album</td>\n    </tr>\n    <tr>\n      <th>1</th>\n      <td>3</td>\n      <td>0</td>\n      <td>2008-11-26 01:44:45</td>\n      <td>2009-01-05 00:00:00</td>\n      <td>NaN</td>\n      <td>4</td>\n      <td>1</td>\n      <td>&lt;p&gt;&lt;/p&gt;</td>\n      <td>6073</td>\n      <td>NaN</td>\n      <td>[]</td>\n      <td>AWOL - A Way Of Life</td>\n      <td>7</td>\n      <td>Album</td>\n    </tr>\n    <tr>\n      <th>2</th>\n      <td>5</td>\n      <td>0</td>\n      <td>2008-11-26 01:44:45</td>\n      <td>2009-01-05 00:00:00</td>\n      <td>NaN</td>\n      <td>4</td>\n      <td>1</td>\n      <td>&lt;p&gt;&lt;/p&gt;</td>\n      <td>6073</td>\n      <td>NaN</td>\n      <td>[]</td>\n      <td>AWOL - A Way Of Life</td>\n      <td>7</td>\n      <td>Album</td>\n    </tr>\n    <tr>\n      <th>3</th>\n      <td>10</td>\n      <td>0</td>\n      <td>2008-11-26 01:45:08</td>\n      <td>2008-02-06 00:00:00</td>\n      <td>NaN</td>\n      <td>4</td>\n      <td>6</td>\n      <td>NaN</td>\n      <td>47632</td>\n      <td>NaN</td>\n      <td>[]</td>\n      <td>Constant Hitmaker</td>\n      <td>2</td>\n      <td>Album</td>\n    </tr>\n    <tr>\n      <th>4</th>\n      <td>20</td>\n      <td>0</td>\n      <td>2008-11-26 01:45:05</td>\n      <td>2009-01-06 00:00:00</td>\n      <td>NaN</td>\n      <td>2</td>\n      <td>4</td>\n      <td>&lt;p&gt; \"spiritual songs\" from Nicky Cook&lt;/p&gt;</td>\n      <td>2710</td>\n      <td>NaN</td>\n      <td>[]</td>\n      <td>Niris</td>\n      <td>13</td>\n      <td>Album</td>\n    </tr>\n  </tbody>\n</table>\n</div>"
     },
     "metadata": {},
     "execution_count": 23
    }
   ],
   "source": [
    "albums.head()"
   ]
  },
  {
   "cell_type": "code",
   "execution_count": 24,
   "metadata": {},
   "outputs": [],
   "source": [
    "albums.fillna(\"\", inplace=True)"
   ]
  },
  {
   "cell_type": "code",
   "execution_count": 25,
   "metadata": {},
   "outputs": [
    {
     "output_type": "execute_result",
     "data": {
      "text/plain": "14854"
     },
     "metadata": {},
     "execution_count": 25
    }
   ],
   "source": [
    "conn.upsertVertexDataFrame(albums, \"Album\", \"id\", attributes={\"Title\": \"title\", \"Tracks\": \"tracks\", \"Listens\": \"listens\", \"Information\": \"information\"})"
   ]
  },
  {
   "cell_type": "code",
   "execution_count": 26,
   "metadata": {},
   "outputs": [
    {
     "output_type": "execute_result",
     "data": {
      "text/plain": "   track_id    active_year_begin      active_year_end  \\\n0         2  2006-01-01 00:00:00                  NaN   \n1         3  2006-01-01 00:00:00                  NaN   \n2         5  2006-01-01 00:00:00                  NaN   \n3        10                  NaN                  NaN   \n4        20  1990-01-01 00:00:00  2011-01-01 00:00:00   \n\n                                   associated_labels  \\\n0                                                NaN   \n1                                                NaN   \n2                                                NaN   \n3  Mexican Summer, Richie Records, Woodsist, Skul...   \n4                                                NaN   \n\n                                                 bio  comments  \\\n0  <p>A Way Of Life, A Collective of Hip-Hop from...         0   \n1  <p>A Way Of Life, A Collective of Hip-Hop from...         0   \n2  <p>A Way Of Life, A Collective of Hip-Hop from...         0   \n3  <p><span style=\"font-family:Verdana, Geneva, A...         3   \n4  <p>Songs written by: Nicky Cook</p>\\n<p>VOCALS...         2   \n\n          date_created  favorites  id   latitude            location  \\\n0  2008-11-26 01:42:32          9   1  40.058324          New Jersey   \n1  2008-11-26 01:42:32          9   1  40.058324          New Jersey   \n2  2008-11-26 01:42:32          9   1  40.058324          New Jersey   \n3  2008-11-26 01:42:55         74   6        NaN                 NaN   \n4  2008-11-26 01:42:52         10   4  51.895927  Colchester England   \n\n   longitude                                            members        name  \\\n0 -74.405661  Sajje Morocco,Brownbum,ZawidaGod,Custodian of ...        AWOL   \n1 -74.405661  Sajje Morocco,Brownbum,ZawidaGod,Custodian of ...        AWOL   \n2 -74.405661  Sajje Morocco,Brownbum,ZawidaGod,Custodian of ...        AWOL   \n3        NaN                           Kurt Vile, the Violators   Kurt Vile   \n4   0.891874                                       Nicky Cook\\n  Nicky Cook   \n\n                                    related_projects  \\\n0  The list of past projects is 2 long but every1...   \n1  The list of past projects is 2 long but every1...   \n2  The list of past projects is 2 long but every1...   \n3                                                NaN   \n4                                                NaN   \n\n                                                tags  \\\n0                                           ['awol']   \n1                                           ['awol']   \n2                                           ['awol']   \n3                            ['philly', 'kurt vile']   \n4  ['instrumentals', 'experimental pop', 'post pu...   \n\n                                   website wikipedia_page  \n0  http://www.AzillionRecords.blogspot.com            NaN  \n1  http://www.AzillionRecords.blogspot.com            NaN  \n2  http://www.AzillionRecords.blogspot.com            NaN  \n3                      http://kurtvile.com            NaN  \n4                                      NaN            NaN  ",
      "text/html": "<div>\n<style scoped>\n    .dataframe tbody tr th:only-of-type {\n        vertical-align: middle;\n    }\n\n    .dataframe tbody tr th {\n        vertical-align: top;\n    }\n\n    .dataframe thead th {\n        text-align: right;\n    }\n</style>\n<table border=\"1\" class=\"dataframe\">\n  <thead>\n    <tr style=\"text-align: right;\">\n      <th></th>\n      <th>track_id</th>\n      <th>active_year_begin</th>\n      <th>active_year_end</th>\n      <th>associated_labels</th>\n      <th>bio</th>\n      <th>comments</th>\n      <th>date_created</th>\n      <th>favorites</th>\n      <th>id</th>\n      <th>latitude</th>\n      <th>location</th>\n      <th>longitude</th>\n      <th>members</th>\n      <th>name</th>\n      <th>related_projects</th>\n      <th>tags</th>\n      <th>website</th>\n      <th>wikipedia_page</th>\n    </tr>\n  </thead>\n  <tbody>\n    <tr>\n      <th>0</th>\n      <td>2</td>\n      <td>2006-01-01 00:00:00</td>\n      <td>NaN</td>\n      <td>NaN</td>\n      <td>&lt;p&gt;A Way Of Life, A Collective of Hip-Hop from...</td>\n      <td>0</td>\n      <td>2008-11-26 01:42:32</td>\n      <td>9</td>\n      <td>1</td>\n      <td>40.058324</td>\n      <td>New Jersey</td>\n      <td>-74.405661</td>\n      <td>Sajje Morocco,Brownbum,ZawidaGod,Custodian of ...</td>\n      <td>AWOL</td>\n      <td>The list of past projects is 2 long but every1...</td>\n      <td>['awol']</td>\n      <td>http://www.AzillionRecords.blogspot.com</td>\n      <td>NaN</td>\n    </tr>\n    <tr>\n      <th>1</th>\n      <td>3</td>\n      <td>2006-01-01 00:00:00</td>\n      <td>NaN</td>\n      <td>NaN</td>\n      <td>&lt;p&gt;A Way Of Life, A Collective of Hip-Hop from...</td>\n      <td>0</td>\n      <td>2008-11-26 01:42:32</td>\n      <td>9</td>\n      <td>1</td>\n      <td>40.058324</td>\n      <td>New Jersey</td>\n      <td>-74.405661</td>\n      <td>Sajje Morocco,Brownbum,ZawidaGod,Custodian of ...</td>\n      <td>AWOL</td>\n      <td>The list of past projects is 2 long but every1...</td>\n      <td>['awol']</td>\n      <td>http://www.AzillionRecords.blogspot.com</td>\n      <td>NaN</td>\n    </tr>\n    <tr>\n      <th>2</th>\n      <td>5</td>\n      <td>2006-01-01 00:00:00</td>\n      <td>NaN</td>\n      <td>NaN</td>\n      <td>&lt;p&gt;A Way Of Life, A Collective of Hip-Hop from...</td>\n      <td>0</td>\n      <td>2008-11-26 01:42:32</td>\n      <td>9</td>\n      <td>1</td>\n      <td>40.058324</td>\n      <td>New Jersey</td>\n      <td>-74.405661</td>\n      <td>Sajje Morocco,Brownbum,ZawidaGod,Custodian of ...</td>\n      <td>AWOL</td>\n      <td>The list of past projects is 2 long but every1...</td>\n      <td>['awol']</td>\n      <td>http://www.AzillionRecords.blogspot.com</td>\n      <td>NaN</td>\n    </tr>\n    <tr>\n      <th>3</th>\n      <td>10</td>\n      <td>NaN</td>\n      <td>NaN</td>\n      <td>Mexican Summer, Richie Records, Woodsist, Skul...</td>\n      <td>&lt;p&gt;&lt;span style=\"font-family:Verdana, Geneva, A...</td>\n      <td>3</td>\n      <td>2008-11-26 01:42:55</td>\n      <td>74</td>\n      <td>6</td>\n      <td>NaN</td>\n      <td>NaN</td>\n      <td>NaN</td>\n      <td>Kurt Vile, the Violators</td>\n      <td>Kurt Vile</td>\n      <td>NaN</td>\n      <td>['philly', 'kurt vile']</td>\n      <td>http://kurtvile.com</td>\n      <td>NaN</td>\n    </tr>\n    <tr>\n      <th>4</th>\n      <td>20</td>\n      <td>1990-01-01 00:00:00</td>\n      <td>2011-01-01 00:00:00</td>\n      <td>NaN</td>\n      <td>&lt;p&gt;Songs written by: Nicky Cook&lt;/p&gt;\\n&lt;p&gt;VOCALS...</td>\n      <td>2</td>\n      <td>2008-11-26 01:42:52</td>\n      <td>10</td>\n      <td>4</td>\n      <td>51.895927</td>\n      <td>Colchester England</td>\n      <td>0.891874</td>\n      <td>Nicky Cook\\n</td>\n      <td>Nicky Cook</td>\n      <td>NaN</td>\n      <td>['instrumentals', 'experimental pop', 'post pu...</td>\n      <td>NaN</td>\n      <td>NaN</td>\n    </tr>\n  </tbody>\n</table>\n</div>"
     },
     "metadata": {},
     "execution_count": 26
    }
   ],
   "source": [
    "artists.head()"
   ]
  },
  {
   "cell_type": "code",
   "execution_count": 27,
   "metadata": {},
   "outputs": [],
   "source": [
    "locations = artists[[\"id\", \"location\", \"longitude\", \"latitude\"]].dropna()"
   ]
  },
  {
   "cell_type": "code",
   "execution_count": 28,
   "metadata": {},
   "outputs": [],
   "source": [
    "tags = artists[[\"id\", \"tags\"]]"
   ]
  },
  {
   "cell_type": "code",
   "execution_count": 29,
   "metadata": {},
   "outputs": [],
   "source": [
    "artists.fillna(\"\", inplace=True)"
   ]
  },
  {
   "cell_type": "code",
   "execution_count": 30,
   "metadata": {},
   "outputs": [
    {
     "output_type": "execute_result",
     "data": {
      "text/plain": "16341"
     },
     "metadata": {},
     "execution_count": 30
    }
   ],
   "source": [
    "conn.upsertVertexDataFrame(artists, \"Artist\", \"id\", attributes={\"Name\": \"name\", \"Members\": \"members\", \"Bio\": \"bio\"})"
   ]
  },
  {
   "cell_type": "code",
   "execution_count": 31,
   "metadata": {},
   "outputs": [
    {
     "output_type": "execute_result",
     "data": {
      "text/plain": "   id            location  longitude   latitude\n0   1          New Jersey -74.405661  40.058324\n1   1          New Jersey -74.405661  40.058324\n2   1          New Jersey -74.405661  40.058324\n4   4  Colchester England   0.891874  51.895927\n5   4  Colchester England   0.891874  51.895927",
      "text/html": "<div>\n<style scoped>\n    .dataframe tbody tr th:only-of-type {\n        vertical-align: middle;\n    }\n\n    .dataframe tbody tr th {\n        vertical-align: top;\n    }\n\n    .dataframe thead th {\n        text-align: right;\n    }\n</style>\n<table border=\"1\" class=\"dataframe\">\n  <thead>\n    <tr style=\"text-align: right;\">\n      <th></th>\n      <th>id</th>\n      <th>location</th>\n      <th>longitude</th>\n      <th>latitude</th>\n    </tr>\n  </thead>\n  <tbody>\n    <tr>\n      <th>0</th>\n      <td>1</td>\n      <td>New Jersey</td>\n      <td>-74.405661</td>\n      <td>40.058324</td>\n    </tr>\n    <tr>\n      <th>1</th>\n      <td>1</td>\n      <td>New Jersey</td>\n      <td>-74.405661</td>\n      <td>40.058324</td>\n    </tr>\n    <tr>\n      <th>2</th>\n      <td>1</td>\n      <td>New Jersey</td>\n      <td>-74.405661</td>\n      <td>40.058324</td>\n    </tr>\n    <tr>\n      <th>4</th>\n      <td>4</td>\n      <td>Colchester England</td>\n      <td>0.891874</td>\n      <td>51.895927</td>\n    </tr>\n    <tr>\n      <th>5</th>\n      <td>4</td>\n      <td>Colchester England</td>\n      <td>0.891874</td>\n      <td>51.895927</td>\n    </tr>\n  </tbody>\n</table>\n</div>"
     },
     "metadata": {},
     "execution_count": 31
    }
   ],
   "source": [
    "locations.head()"
   ]
  },
  {
   "cell_type": "code",
   "execution_count": 32,
   "metadata": {},
   "outputs": [
    {
     "output_type": "execute_result",
     "data": {
      "text/plain": "1608"
     },
     "metadata": {},
     "execution_count": 32
    }
   ],
   "source": [
    "conn.upsertVertexDataFrame(locations, \"Location\", \"location\", {\"Latitude\":\"latitude\", \"Longitude\": \"longitude\"})"
   ]
  },
  {
   "cell_type": "code",
   "execution_count": 33,
   "metadata": {},
   "outputs": [
    {
     "output_type": "execute_result",
     "data": {
      "text/plain": "3826"
     },
     "metadata": {},
     "execution_count": 33
    }
   ],
   "source": [
    "conn.upsertEdgeDataFrame(locations, \"Artist\", \"artistFromLocation\", \"Location\", from_id=\"id\", to_id=\"location\", attributes={})"
   ]
  },
  {
   "cell_type": "code",
   "execution_count": 34,
   "metadata": {},
   "outputs": [],
   "source": [
    "tags.dropna(inplace=True)"
   ]
  },
  {
   "cell_type": "code",
   "execution_count": 35,
   "metadata": {},
   "outputs": [],
   "source": [
    "artistTagEdges = []\n",
    "\n",
    "def createArtistTagEdge(row):\n",
    "    for tag in row[\"tags\"].strip(\"[\").strip(\"]\").strip(\"'\").split(\", \"):\n",
    "        if tag == '':\n",
    "            continue\n",
    "        else:\n",
    "            try:\n",
    "                artistTagEdges.append((row[\"id\"], tag))\n",
    "            except:\n",
    "                pass"
   ]
  },
  {
   "cell_type": "code",
   "execution_count": 36,
   "metadata": {},
   "outputs": [
    {
     "output_type": "execute_result",
     "data": {
      "text/plain": "0         None\n1         None\n2         None\n3         None\n4         None\n          ... \n106569    None\n106570    None\n106571    None\n106572    None\n106573    None\nLength: 106574, dtype: object"
     },
     "metadata": {},
     "execution_count": 36
    }
   ],
   "source": [
    "tags.apply(lambda x: createArtistTagEdge(x), axis=1)"
   ]
  },
  {
   "cell_type": "code",
   "execution_count": 37,
   "metadata": {},
   "outputs": [
    {
     "output_type": "execute_result",
     "data": {
      "text/plain": "[(1, 'awol'), (1, 'awol'), (1, 'awol'), (6, \"philly'\"), (6, \"'kurt vile\")]"
     },
     "metadata": {},
     "execution_count": 37
    }
   ],
   "source": [
    "artistTagEdges[:5]"
   ]
  },
  {
   "cell_type": "code",
   "execution_count": 38,
   "metadata": {},
   "outputs": [],
   "source": [
    "tagVertices = [(x, {}) for x in set([x[1] for x in artistTagEdges])]"
   ]
  },
  {
   "cell_type": "code",
   "execution_count": 39,
   "metadata": {},
   "outputs": [
    {
     "output_type": "execute_result",
     "data": {
      "text/plain": "[('old bear', {}),\n (\"amokdrang'\", {}),\n ('higgins', {}),\n ('goat bell', {}),\n ('frank wilson', {})]"
     },
     "metadata": {},
     "execution_count": 39
    }
   ],
   "source": [
    "tagVertices[:5]"
   ]
  },
  {
   "cell_type": "code",
   "execution_count": 40,
   "metadata": {},
   "outputs": [
    {
     "output_type": "execute_result",
     "data": {
      "text/plain": "18625"
     },
     "metadata": {},
     "execution_count": 40
    }
   ],
   "source": [
    "conn.upsertVertices(\"Tag\", tagVertices)"
   ]
  },
  {
   "cell_type": "code",
   "execution_count": 41,
   "metadata": {},
   "outputs": [
    {
     "output_type": "execute_result",
     "data": {
      "text/plain": "22375"
     },
     "metadata": {},
     "execution_count": 41
    }
   ],
   "source": [
    "conn.upsertEdges(\"Artist\", \"artistHasTag\", \"Tag\", artistTagEdges)"
   ]
  },
  {
   "cell_type": "code",
   "execution_count": 42,
   "metadata": {},
   "outputs": [
    {
     "output_type": "execute_result",
     "data": {
      "text/plain": "   genre_id  #tracks  parent          title  top_level\n0         1     8693      38    Avant-Garde         38\n1         2     5271       0  International          2\n2         3     1752       0          Blues          3\n3         4     4126       0           Jazz          4\n4         5     4106       0      Classical          5",
      "text/html": "<div>\n<style scoped>\n    .dataframe tbody tr th:only-of-type {\n        vertical-align: middle;\n    }\n\n    .dataframe tbody tr th {\n        vertical-align: top;\n    }\n\n    .dataframe thead th {\n        text-align: right;\n    }\n</style>\n<table border=\"1\" class=\"dataframe\">\n  <thead>\n    <tr style=\"text-align: right;\">\n      <th></th>\n      <th>genre_id</th>\n      <th>#tracks</th>\n      <th>parent</th>\n      <th>title</th>\n      <th>top_level</th>\n    </tr>\n  </thead>\n  <tbody>\n    <tr>\n      <th>0</th>\n      <td>1</td>\n      <td>8693</td>\n      <td>38</td>\n      <td>Avant-Garde</td>\n      <td>38</td>\n    </tr>\n    <tr>\n      <th>1</th>\n      <td>2</td>\n      <td>5271</td>\n      <td>0</td>\n      <td>International</td>\n      <td>2</td>\n    </tr>\n    <tr>\n      <th>2</th>\n      <td>3</td>\n      <td>1752</td>\n      <td>0</td>\n      <td>Blues</td>\n      <td>3</td>\n    </tr>\n    <tr>\n      <th>3</th>\n      <td>4</td>\n      <td>4126</td>\n      <td>0</td>\n      <td>Jazz</td>\n      <td>4</td>\n    </tr>\n    <tr>\n      <th>4</th>\n      <td>5</td>\n      <td>4106</td>\n      <td>0</td>\n      <td>Classical</td>\n      <td>5</td>\n    </tr>\n  </tbody>\n</table>\n</div>"
     },
     "metadata": {},
     "execution_count": 42
    }
   ],
   "source": [
    "genres.head()"
   ]
  },
  {
   "cell_type": "code",
   "execution_count": 43,
   "metadata": {},
   "outputs": [
    {
     "output_type": "execute_result",
     "data": {
      "text/plain": "163"
     },
     "metadata": {},
     "execution_count": 43
    }
   ],
   "source": [
    "conn.upsertVertexDataFrame(genres, \"Genre\", \"genre_id\", attributes={\"Title\":\"title\", \"NumTracks\":\"#tracks\"})\n",
    "\n",
    "conn.upsertEdgeDataFrame(genres, \"Genre\", \"childGenre\", \"Genre\", from_id=\"genre_id\", to_id=\"parent\", attributes={})"
   ]
  },
  {
   "cell_type": "code",
   "execution_count": 44,
   "metadata": {},
   "outputs": [
    {
     "output_type": "execute_result",
     "data": {
      "text/plain": "   track_id  bit_rate  comments   composer         date_created  \\\n0         2    256000         0        NaN  2008-11-26 01:48:12   \n1         3    256000         0        NaN  2008-11-26 01:48:14   \n2         5    256000         0        NaN  2008-11-26 01:48:20   \n3        10    192000         0  Kurt Vile  2008-11-25 17:49:06   \n4        20    256000         0        NaN  2008-11-26 01:48:56   \n\n         date_recorded  duration  favorites genre_top     genres  ...  \\\n0  2008-11-26 00:00:00       168          2   Hip-Hop       [21]  ...   \n1  2008-11-26 00:00:00       237          1   Hip-Hop       [21]  ...   \n2  2008-11-26 00:00:00       206          6   Hip-Hop       [21]  ...   \n3  2008-11-26 00:00:00       161        178       Pop       [10]  ...   \n4  2008-01-01 00:00:00       311          0       NaN  [76, 103]  ...   \n\n  language_code                                            license  listens  \\\n0            en  Attribution-NonCommercial-ShareAlike 3.0 Inter...     1293   \n1            en  Attribution-NonCommercial-ShareAlike 3.0 Inter...      514   \n2            en  Attribution-NonCommercial-ShareAlike 3.0 Inter...     1151   \n3            en  Attribution-NonCommercial-NoDerivatives (aka M...    50135   \n4            en  Attribution-NonCommercial-NoDerivatives (aka M...      361   \n\n  lyricist number  publisher tags            title feature  \\\n0      NaN      3        NaN   []             Food       2   \n1      NaN      4        NaN   []     Electric Ave       3   \n2      NaN      6        NaN   []       This World       5   \n3      NaN      1        NaN   []          Freeway      10   \n4      NaN      3        NaN   []  Spiritual Level      20   \n\n                                              vector  \n0  [7.1806526184, 5.2303090096, 0.24932080507, 1....  \n1  [1.8889633417, 0.7605392932899999, 0.345296561...  \n2  [0.52756297588, -0.07765431702100001, -0.27961...  \n3  [3.7022454739, -0.29119303823000003, 2.1967420...  \n4  [-0.19383698702, -0.19852678478, 0.20154602826...  \n\n[5 rows x 23 columns]",
      "text/html": "<div>\n<style scoped>\n    .dataframe tbody tr th:only-of-type {\n        vertical-align: middle;\n    }\n\n    .dataframe tbody tr th {\n        vertical-align: top;\n    }\n\n    .dataframe thead th {\n        text-align: right;\n    }\n</style>\n<table border=\"1\" class=\"dataframe\">\n  <thead>\n    <tr style=\"text-align: right;\">\n      <th></th>\n      <th>track_id</th>\n      <th>bit_rate</th>\n      <th>comments</th>\n      <th>composer</th>\n      <th>date_created</th>\n      <th>date_recorded</th>\n      <th>duration</th>\n      <th>favorites</th>\n      <th>genre_top</th>\n      <th>genres</th>\n      <th>...</th>\n      <th>language_code</th>\n      <th>license</th>\n      <th>listens</th>\n      <th>lyricist</th>\n      <th>number</th>\n      <th>publisher</th>\n      <th>tags</th>\n      <th>title</th>\n      <th>feature</th>\n      <th>vector</th>\n    </tr>\n  </thead>\n  <tbody>\n    <tr>\n      <th>0</th>\n      <td>2</td>\n      <td>256000</td>\n      <td>0</td>\n      <td>NaN</td>\n      <td>2008-11-26 01:48:12</td>\n      <td>2008-11-26 00:00:00</td>\n      <td>168</td>\n      <td>2</td>\n      <td>Hip-Hop</td>\n      <td>[21]</td>\n      <td>...</td>\n      <td>en</td>\n      <td>Attribution-NonCommercial-ShareAlike 3.0 Inter...</td>\n      <td>1293</td>\n      <td>NaN</td>\n      <td>3</td>\n      <td>NaN</td>\n      <td>[]</td>\n      <td>Food</td>\n      <td>2</td>\n      <td>[7.1806526184, 5.2303090096, 0.24932080507, 1....</td>\n    </tr>\n    <tr>\n      <th>1</th>\n      <td>3</td>\n      <td>256000</td>\n      <td>0</td>\n      <td>NaN</td>\n      <td>2008-11-26 01:48:14</td>\n      <td>2008-11-26 00:00:00</td>\n      <td>237</td>\n      <td>1</td>\n      <td>Hip-Hop</td>\n      <td>[21]</td>\n      <td>...</td>\n      <td>en</td>\n      <td>Attribution-NonCommercial-ShareAlike 3.0 Inter...</td>\n      <td>514</td>\n      <td>NaN</td>\n      <td>4</td>\n      <td>NaN</td>\n      <td>[]</td>\n      <td>Electric Ave</td>\n      <td>3</td>\n      <td>[1.8889633417, 0.7605392932899999, 0.345296561...</td>\n    </tr>\n    <tr>\n      <th>2</th>\n      <td>5</td>\n      <td>256000</td>\n      <td>0</td>\n      <td>NaN</td>\n      <td>2008-11-26 01:48:20</td>\n      <td>2008-11-26 00:00:00</td>\n      <td>206</td>\n      <td>6</td>\n      <td>Hip-Hop</td>\n      <td>[21]</td>\n      <td>...</td>\n      <td>en</td>\n      <td>Attribution-NonCommercial-ShareAlike 3.0 Inter...</td>\n      <td>1151</td>\n      <td>NaN</td>\n      <td>6</td>\n      <td>NaN</td>\n      <td>[]</td>\n      <td>This World</td>\n      <td>5</td>\n      <td>[0.52756297588, -0.07765431702100001, -0.27961...</td>\n    </tr>\n    <tr>\n      <th>3</th>\n      <td>10</td>\n      <td>192000</td>\n      <td>0</td>\n      <td>Kurt Vile</td>\n      <td>2008-11-25 17:49:06</td>\n      <td>2008-11-26 00:00:00</td>\n      <td>161</td>\n      <td>178</td>\n      <td>Pop</td>\n      <td>[10]</td>\n      <td>...</td>\n      <td>en</td>\n      <td>Attribution-NonCommercial-NoDerivatives (aka M...</td>\n      <td>50135</td>\n      <td>NaN</td>\n      <td>1</td>\n      <td>NaN</td>\n      <td>[]</td>\n      <td>Freeway</td>\n      <td>10</td>\n      <td>[3.7022454739, -0.29119303823000003, 2.1967420...</td>\n    </tr>\n    <tr>\n      <th>4</th>\n      <td>20</td>\n      <td>256000</td>\n      <td>0</td>\n      <td>NaN</td>\n      <td>2008-11-26 01:48:56</td>\n      <td>2008-01-01 00:00:00</td>\n      <td>311</td>\n      <td>0</td>\n      <td>NaN</td>\n      <td>[76, 103]</td>\n      <td>...</td>\n      <td>en</td>\n      <td>Attribution-NonCommercial-NoDerivatives (aka M...</td>\n      <td>361</td>\n      <td>NaN</td>\n      <td>3</td>\n      <td>NaN</td>\n      <td>[]</td>\n      <td>Spiritual Level</td>\n      <td>20</td>\n      <td>[-0.19383698702, -0.19852678478, 0.20154602826...</td>\n    </tr>\n  </tbody>\n</table>\n<p>5 rows × 23 columns</p>\n</div>"
     },
     "metadata": {},
     "execution_count": 44
    }
   ],
   "source": [
    "tracks.head()"
   ]
  },
  {
   "cell_type": "code",
   "execution_count": 45,
   "metadata": {},
   "outputs": [],
   "source": [
    "tracks[\"title\"].fillna(\"\", inplace=True)"
   ]
  },
  {
   "cell_type": "code",
   "execution_count": 46,
   "metadata": {},
   "outputs": [],
   "source": [
    "tracks[\"title\"] = tracks[\"title\"].astype(str)"
   ]
  },
  {
   "cell_type": "code",
   "execution_count": 47,
   "metadata": {},
   "outputs": [],
   "source": [
    "tracks.fillna(0, inplace=True)"
   ]
  },
  {
   "cell_type": "code",
   "execution_count": 48,
   "metadata": {},
   "outputs": [
    {
     "output_type": "execute_result",
     "data": {
      "text/plain": "106574"
     },
     "metadata": {},
     "execution_count": 48
    }
   ],
   "source": [
    "conn.upsertVertexDataFrame(tracks, \"Track\", \"track_id\", {\"Title\": \"title\", \"Duration\": \"duration\",  \"Features\": \"vector\"})"
   ]
  },
  {
   "cell_type": "code",
   "execution_count": 49,
   "metadata": {},
   "outputs": [],
   "source": [
    "trackGenreEdges = []\n",
    "\n",
    "def createTrackGenreEdge(row):\n",
    "    for genre in row[\"genres\"].strip(\"[\").strip(\"]\").split(\", \"):\n",
    "        try:\n",
    "            trackGenreEdges.append((row[\"track_id\"], int(genre)))\n",
    "        except:\n",
    "            pass"
   ]
  },
  {
   "cell_type": "code",
   "execution_count": 50,
   "metadata": {},
   "outputs": [
    {
     "output_type": "execute_result",
     "data": {
      "text/plain": "253864"
     },
     "metadata": {},
     "execution_count": 50
    }
   ],
   "source": [
    "tracks.apply(lambda x: createTrackGenreEdge(x), axis=1)\n",
    "conn.upsertEdges(\"Track\", \"trackInGenre\", \"Genre\", trackGenreEdges)"
   ]
  },
  {
   "cell_type": "code",
   "execution_count": 51,
   "metadata": {},
   "outputs": [
    {
     "output_type": "execute_result",
     "data": {
      "text/plain": "106574"
     },
     "metadata": {},
     "execution_count": 51
    }
   ],
   "source": [
    "conn.upsertEdgeDataFrame(artists, \"Artist\", \"artistPerformedTrack\", \"Track\", from_id=\"id\", to_id=\"track_id\", attributes={})"
   ]
  },
  {
   "cell_type": "code",
   "execution_count": 52,
   "metadata": {},
   "outputs": [
    {
     "output_type": "execute_result",
     "data": {
      "text/plain": "106574"
     },
     "metadata": {},
     "execution_count": 52
    }
   ],
   "source": [
    "conn.upsertEdgeDataFrame(albums, \"Track\", \"trackInAlbum\", \"Album\", from_id=\"track_id\", to_id=\"id\", attributes={})"
   ]
  },
  {
   "cell_type": "code",
   "execution_count": null,
   "metadata": {},
   "outputs": [],
   "source": []
  }
 ],
 "metadata": {
  "language_info": {
   "codemirror_mode": {
    "name": "ipython",
    "version": 3
   },
   "file_extension": ".py",
   "mimetype": "text/x-python",
   "name": "python",
   "nbconvert_exporter": "python",
   "pygments_lexer": "ipython3",
   "version": "3.6.9-final"
  },
  "orig_nbformat": 2,
  "kernelspec": {
   "name": "python_defaultSpec_1600214335246",
   "display_name": "Python 3.6.9 64-bit"
  }
 },
 "nbformat": 4,
 "nbformat_minor": 2
}